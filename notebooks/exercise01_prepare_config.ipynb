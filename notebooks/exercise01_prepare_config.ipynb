{
 "cells": [
  {
   "cell_type": "markdown",
   "metadata": {},
   "source": [
    "# Exercise01 : Prepare Config Settings\n",
    "\n",
    "Set your config in your current project folder.    \n",
    "(Before starting, you must create your Machine Learning service workspace with Azure Portal. See [Readme](https://github.com/tsmatz/azure-ml-tensorflow-complete-sample/).)\n",
    "\n",
    "*back to [index](https://github.com/tsmatz/azure-ml-tensorflow-complete-sample/)*"
   ]
  },
  {
   "cell_type": "markdown",
   "metadata": {},
   "source": [
    "## Create config settings\n",
    "\n",
    "You must create config setting into your project directory. The result was written in ```.azureml/config.json```.    \n",
    "If you're asked to login Azure with device login UI (https://microsoft.com/devicelogin), please open your browser and proceed to login.\n",
    "\n",
    "This is needed **only once** in your project directory."
   ]
  },
  {
   "cell_type": "code",
   "execution_count": 1,
   "metadata": {},
   "outputs": [
    {
     "name": "stdout",
     "output_type": "stream",
     "text": [
      "Performing interactive authentication. Please follow the instructions on the terminal.\n",
      "To sign in, use a web browser to open the page https://microsoft.com/devicelogin and enter the code AG38NNUU6 to authenticate.\n",
      "Interactive authentication successfully completed.\n"
     ]
    }
   ],
   "source": [
    "from azureml.core import Workspace\n",
    "ws = Workspace(\n",
    "  workspace_name = \"mlws01\",\n",
    "  subscription_id = \"b3ae1c15-...\",\n",
    "  resource_group = \"TestGroup01\")\n",
    "ws.write_config()"
   ]
  },
  {
   "cell_type": "markdown",
   "metadata": {},
   "source": [
    "## Check if you can see the generated config settings"
   ]
  },
  {
   "cell_type": "code",
   "execution_count": null,
   "metadata": {},
   "outputs": [],
   "source": [
    "my_workspace = Workspace.from_config()\n",
    "my_workspace.get_details()"
   ]
  }
 ],
 "metadata": {
  "kernelspec": {
   "display_name": "Python 3",
   "language": "python",
   "name": "python3"
  },
  "language_info": {
   "codemirror_mode": {
    "name": "ipython",
    "version": 3
   },
   "file_extension": ".py",
   "mimetype": "text/x-python",
   "name": "python",
   "nbconvert_exporter": "python",
   "pygments_lexer": "ipython3",
   "version": "3.6.9"
  }
 },
 "nbformat": 4,
 "nbformat_minor": 2
}
